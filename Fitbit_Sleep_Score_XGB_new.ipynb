{
  "cells": [
    {
      "cell_type": "markdown",
      "metadata": {
        "id": "h_IvD9VUQPHo"
      },
      "source": [
        "# Deconstructing the Fitbit Sleep Score"
      ]
    },
    {
      "cell_type": "markdown",
      "metadata": {
        "id": "HBjSnvc4QPHp"
      },
      "source": [
        "In this project I will use different Machine Learning models in order to get a better understanding of the Fitbit Sleep Score. For those people who have a Fitbit, you've probably been wondering how exactly Fitbit comes up with your sleep score. Sometimes you sleep for shorter periods of time with similar amounts of REM and deep sleep but still get a better sleep score. Other times you have rather low amounts of REM and deep sleep but a better score than a night of higher amounts of those. What's the secret behind this?\n",
        "That's precisely what I will answer throughout this project."
      ]
    },
    {
      "cell_type": "code",
      "execution_count": null,
      "metadata": {
        "id": "w8fMK_dZQPHp"
      },
      "outputs": [],
      "source": [
        "# Import all relevant libraries\n",
        "import pandas as pd\n",
        "import numpy as np\n",
        "import matplotlib.pyplot as plt\n",
        "from sklearn.model_selection import train_test_split\n",
        "from sklearn.metrics import mean_absolute_error\n",
        "from pprint import pprint\n",
        "from xgboost import XGBRegressor\n",
        "from sklearn.ensemble import RandomForestRegressor"
      ]
    },
    {
      "cell_type": "code",
      "execution_count": null,
      "metadata": {
        "id": "LVZMpHSpQPHq"
      },
      "outputs": [],
      "source": [
        "# Read the data\n",
        "url = 'https://raw.githubusercontent.com/srijp/Fitbit-Sleep-Score/master/Fitbit_Sleep_JB_041219_010720.csv'\n",
        "sleep_data = pd.read_csv(url)"
      ]
    },
    {
      "cell_type": "code",
      "execution_count": null,
      "metadata": {
        "scrolled": true,
        "colab": {
          "base_uri": "https://localhost:8080/",
          "height": 354
        },
        "id": "B-fjvIZ0QPHq",
        "outputId": "504c5611-a964-4b8d-dc1c-efad2a8fd233"
      },
      "outputs": [
        {
          "output_type": "execute_result",
          "data": {
            "text/plain": [
              "      Start Time      End Time  Minutes Asleep  Minutes Awake  \\\n",
              "0  30/6/20 21:57   1/7/20 5:59             402             79   \n",
              "1  29/6/20 21:35  30/6/20 6:02             444             63   \n",
              "2  28/6/20 22:01  29/6/20 6:01             420             60   \n",
              "3  27/6/20 22:05  28/6/20 9:27             567            115   \n",
              "4  26/6/20 21:40  27/6/20 7:35             495            100   \n",
              "\n",
              "   Number of Awakenings  Time in Bed  Minutes REM Sleep  Minutes Light Sleep  \\\n",
              "0                    40          481                 32                  282   \n",
              "1                    36          507                 51                  332   \n",
              "2                    36          480                 37                  335   \n",
              "3                    51          682                 83                  390   \n",
              "4                    35          595                 75                  335   \n",
              "\n",
              "   Minutes Deep Sleep  overall_score  \n",
              "0                  88           71.0  \n",
              "1                  61           78.0  \n",
              "2                  48           78.0  \n",
              "3                  94           75.0  \n",
              "4                  85           78.0  "
            ],
            "text/html": [
              "\n",
              "  <div id=\"df-6bc62c04-2c63-4cde-bf07-b19a1dd61d72\">\n",
              "    <div class=\"colab-df-container\">\n",
              "      <div>\n",
              "<style scoped>\n",
              "    .dataframe tbody tr th:only-of-type {\n",
              "        vertical-align: middle;\n",
              "    }\n",
              "\n",
              "    .dataframe tbody tr th {\n",
              "        vertical-align: top;\n",
              "    }\n",
              "\n",
              "    .dataframe thead th {\n",
              "        text-align: right;\n",
              "    }\n",
              "</style>\n",
              "<table border=\"1\" class=\"dataframe\">\n",
              "  <thead>\n",
              "    <tr style=\"text-align: right;\">\n",
              "      <th></th>\n",
              "      <th>Start Time</th>\n",
              "      <th>End Time</th>\n",
              "      <th>Minutes Asleep</th>\n",
              "      <th>Minutes Awake</th>\n",
              "      <th>Number of Awakenings</th>\n",
              "      <th>Time in Bed</th>\n",
              "      <th>Minutes REM Sleep</th>\n",
              "      <th>Minutes Light Sleep</th>\n",
              "      <th>Minutes Deep Sleep</th>\n",
              "      <th>overall_score</th>\n",
              "    </tr>\n",
              "  </thead>\n",
              "  <tbody>\n",
              "    <tr>\n",
              "      <th>0</th>\n",
              "      <td>30/6/20 21:57</td>\n",
              "      <td>1/7/20 5:59</td>\n",
              "      <td>402</td>\n",
              "      <td>79</td>\n",
              "      <td>40</td>\n",
              "      <td>481</td>\n",
              "      <td>32</td>\n",
              "      <td>282</td>\n",
              "      <td>88</td>\n",
              "      <td>71.0</td>\n",
              "    </tr>\n",
              "    <tr>\n",
              "      <th>1</th>\n",
              "      <td>29/6/20 21:35</td>\n",
              "      <td>30/6/20 6:02</td>\n",
              "      <td>444</td>\n",
              "      <td>63</td>\n",
              "      <td>36</td>\n",
              "      <td>507</td>\n",
              "      <td>51</td>\n",
              "      <td>332</td>\n",
              "      <td>61</td>\n",
              "      <td>78.0</td>\n",
              "    </tr>\n",
              "    <tr>\n",
              "      <th>2</th>\n",
              "      <td>28/6/20 22:01</td>\n",
              "      <td>29/6/20 6:01</td>\n",
              "      <td>420</td>\n",
              "      <td>60</td>\n",
              "      <td>36</td>\n",
              "      <td>480</td>\n",
              "      <td>37</td>\n",
              "      <td>335</td>\n",
              "      <td>48</td>\n",
              "      <td>78.0</td>\n",
              "    </tr>\n",
              "    <tr>\n",
              "      <th>3</th>\n",
              "      <td>27/6/20 22:05</td>\n",
              "      <td>28/6/20 9:27</td>\n",
              "      <td>567</td>\n",
              "      <td>115</td>\n",
              "      <td>51</td>\n",
              "      <td>682</td>\n",
              "      <td>83</td>\n",
              "      <td>390</td>\n",
              "      <td>94</td>\n",
              "      <td>75.0</td>\n",
              "    </tr>\n",
              "    <tr>\n",
              "      <th>4</th>\n",
              "      <td>26/6/20 21:40</td>\n",
              "      <td>27/6/20 7:35</td>\n",
              "      <td>495</td>\n",
              "      <td>100</td>\n",
              "      <td>35</td>\n",
              "      <td>595</td>\n",
              "      <td>75</td>\n",
              "      <td>335</td>\n",
              "      <td>85</td>\n",
              "      <td>78.0</td>\n",
              "    </tr>\n",
              "  </tbody>\n",
              "</table>\n",
              "</div>\n",
              "      <button class=\"colab-df-convert\" onclick=\"convertToInteractive('df-6bc62c04-2c63-4cde-bf07-b19a1dd61d72')\"\n",
              "              title=\"Convert this dataframe to an interactive table.\"\n",
              "              style=\"display:none;\">\n",
              "        \n",
              "  <svg xmlns=\"http://www.w3.org/2000/svg\" height=\"24px\"viewBox=\"0 0 24 24\"\n",
              "       width=\"24px\">\n",
              "    <path d=\"M0 0h24v24H0V0z\" fill=\"none\"/>\n",
              "    <path d=\"M18.56 5.44l.94 2.06.94-2.06 2.06-.94-2.06-.94-.94-2.06-.94 2.06-2.06.94zm-11 1L8.5 8.5l.94-2.06 2.06-.94-2.06-.94L8.5 2.5l-.94 2.06-2.06.94zm10 10l.94 2.06.94-2.06 2.06-.94-2.06-.94-.94-2.06-.94 2.06-2.06.94z\"/><path d=\"M17.41 7.96l-1.37-1.37c-.4-.4-.92-.59-1.43-.59-.52 0-1.04.2-1.43.59L10.3 9.45l-7.72 7.72c-.78.78-.78 2.05 0 2.83L4 21.41c.39.39.9.59 1.41.59.51 0 1.02-.2 1.41-.59l7.78-7.78 2.81-2.81c.8-.78.8-2.07 0-2.86zM5.41 20L4 18.59l7.72-7.72 1.47 1.35L5.41 20z\"/>\n",
              "  </svg>\n",
              "      </button>\n",
              "      \n",
              "  <style>\n",
              "    .colab-df-container {\n",
              "      display:flex;\n",
              "      flex-wrap:wrap;\n",
              "      gap: 12px;\n",
              "    }\n",
              "\n",
              "    .colab-df-convert {\n",
              "      background-color: #E8F0FE;\n",
              "      border: none;\n",
              "      border-radius: 50%;\n",
              "      cursor: pointer;\n",
              "      display: none;\n",
              "      fill: #1967D2;\n",
              "      height: 32px;\n",
              "      padding: 0 0 0 0;\n",
              "      width: 32px;\n",
              "    }\n",
              "\n",
              "    .colab-df-convert:hover {\n",
              "      background-color: #E2EBFA;\n",
              "      box-shadow: 0px 1px 2px rgba(60, 64, 67, 0.3), 0px 1px 3px 1px rgba(60, 64, 67, 0.15);\n",
              "      fill: #174EA6;\n",
              "    }\n",
              "\n",
              "    [theme=dark] .colab-df-convert {\n",
              "      background-color: #3B4455;\n",
              "      fill: #D2E3FC;\n",
              "    }\n",
              "\n",
              "    [theme=dark] .colab-df-convert:hover {\n",
              "      background-color: #434B5C;\n",
              "      box-shadow: 0px 1px 3px 1px rgba(0, 0, 0, 0.15);\n",
              "      filter: drop-shadow(0px 1px 2px rgba(0, 0, 0, 0.3));\n",
              "      fill: #FFFFFF;\n",
              "    }\n",
              "  </style>\n",
              "\n",
              "      <script>\n",
              "        const buttonEl =\n",
              "          document.querySelector('#df-6bc62c04-2c63-4cde-bf07-b19a1dd61d72 button.colab-df-convert');\n",
              "        buttonEl.style.display =\n",
              "          google.colab.kernel.accessAllowed ? 'block' : 'none';\n",
              "\n",
              "        async function convertToInteractive(key) {\n",
              "          const element = document.querySelector('#df-6bc62c04-2c63-4cde-bf07-b19a1dd61d72');\n",
              "          const dataTable =\n",
              "            await google.colab.kernel.invokeFunction('convertToInteractive',\n",
              "                                                     [key], {});\n",
              "          if (!dataTable) return;\n",
              "\n",
              "          const docLinkHtml = 'Like what you see? Visit the ' +\n",
              "            '<a target=\"_blank\" href=https://colab.research.google.com/notebooks/data_table.ipynb>data table notebook</a>'\n",
              "            + ' to learn more about interactive tables.';\n",
              "          element.innerHTML = '';\n",
              "          dataTable['output_type'] = 'display_data';\n",
              "          await google.colab.output.renderOutput(dataTable, element);\n",
              "          const docLink = document.createElement('div');\n",
              "          docLink.innerHTML = docLinkHtml;\n",
              "          element.appendChild(docLink);\n",
              "        }\n",
              "      </script>\n",
              "    </div>\n",
              "  </div>\n",
              "  "
            ]
          },
          "metadata": {},
          "execution_count": 15
        }
      ],
      "source": [
        "sleep_data.head()"
      ]
    },
    {
      "cell_type": "code",
      "execution_count": null,
      "metadata": {
        "id": "ABw6JEQdQPHr"
      },
      "outputs": [],
      "source": [
        "# Drop the last row as it doesn't have any sleep score data\n",
        "sleep_data.dropna(subset=['overall_score'], inplace=True)"
      ]
    },
    {
      "cell_type": "markdown",
      "metadata": {
        "id": "CMQUhV4QQPHr"
      },
      "source": [
        "For now I will focus on the columns from Minutes Asleep to Minutes Deep Sleep as the features and the overall_score as the label as that most closely resembles the data that the Fitbit App provides to its users. The Number of Awakenings column seems interesting but isn't provided in the app either so I'll drop that one for now as well."
      ]
    },
    {
      "cell_type": "code",
      "execution_count": null,
      "metadata": {
        "id": "oyY2q6TnQPHr"
      },
      "outputs": [],
      "source": [
        "# Obtain column names for features\n",
        "feats = sleep_data.columns[2:9]\n",
        "\n",
        "X = sleep_data[feats].astype(float)\n",
        "X.drop('Number of Awakenings', axis=1, inplace=True)\n",
        "y = sleep_data['overall_score']"
      ]
    },
    {
      "cell_type": "code",
      "execution_count": null,
      "metadata": {
        "id": "W5aq9s5tQPHr"
      },
      "outputs": [],
      "source": [
        "# Split data into training and validation set\n",
        "X_train, X_valid, y_train, y_valid = train_test_split(X, y, test_size=0.2, random_state=42)\n",
        "# Remember: because now I'm looking at a Random Forest Regressor, scaling is not needed"
      ]
    },
    {
      "cell_type": "code",
      "execution_count": null,
      "metadata": {
        "id": "22u_aygrQPHs"
      },
      "outputs": [],
      "source": [
        "# Create the model using early stopping and a relatively \"slow\" learning rate\n"
      ]
    },
    {
      "cell_type": "code",
      "execution_count": null,
      "metadata": {
        "id": "82he4tyBQPHs"
      },
      "outputs": [],
      "source": [
        "# Define a function for scoring the model and returning its accuracy\n",
        "def evaluate(model, test_features, test_labels):\n",
        "    predictions = model.predict(test_features)\n",
        "    errors = abs(predictions - test_labels)\n",
        "    mape = 100 * np.mean(errors / test_labels)\n",
        "    accuracy = 100 - mape\n",
        "    score = model.score(test_features, test_labels)\n",
        "    print('Model Performance')\n",
        "    print('Average Error: {:0.4f}.'.format(np.mean(errors)))\n",
        "    print('Accuracy = {:0.2f}%.'.format(accuracy))\n",
        "    print('Score = {:0.4f}.'.format(score))\n",
        "    return accuracy"
      ]
    },
    {
      "cell_type": "code",
      "source": [
        "# Get random forest for use\n",
        "rf_base = RandomForestRegressor(random_state=42)\n",
        "rf_base.fit(X_train, y_train)"
      ],
      "metadata": {
        "colab": {
          "base_uri": "https://localhost:8080/"
        },
        "id": "xEqMG2L0SsYl",
        "outputId": "c06f6beb-7a57-4243-eb6a-79f08bb760ae"
      },
      "execution_count": null,
      "outputs": [
        {
          "output_type": "execute_result",
          "data": {
            "text/plain": [
              "RandomForestRegressor(random_state=42)"
            ]
          },
          "metadata": {},
          "execution_count": 19
        }
      ]
    },
    {
      "cell_type": "code",
      "execution_count": null,
      "metadata": {
        "colab": {
          "base_uri": "https://localhost:8080/"
        },
        "id": "m5sxxp9OQPHs",
        "outputId": "3faec483-6aae-4755-fd4a-9a0cb769be91"
      },
      "outputs": [
        {
          "output_type": "stream",
          "name": "stdout",
          "text": [
            "Variable: Minutes Asleep       Importance: 0.61\n",
            "Variable: Minutes REM Sleep    Importance: 0.19\n",
            "Variable: Minutes Awake        Importance: 0.12\n",
            "Variable: Time in Bed          Importance: 0.03\n",
            "Variable: Minutes Deep Sleep   Importance: 0.03\n",
            "Variable: Minutes Light Sleep  Importance: 0.02\n"
          ]
        },
        {
          "output_type": "execute_result",
          "data": {
            "text/plain": [
              "[None, None, None, None, None, None]"
            ]
          },
          "metadata": {},
          "execution_count": 20
        }
      ],
      "source": [
        "# Look at feature importances\n",
        "feature_list = list(X.columns)\n",
        "importances = list(rf_base.feature_importances_)\n",
        "\n",
        "# List of tuples with variable and importance ans subsequent sorting\n",
        "feature_importances = [(feature, round(importance, 2)) for feature, importance in zip(feature_list, importances)]\n",
        "feature_importances = sorted(feature_importances, key = lambda x: x[1], reverse=True)\n",
        "\n",
        "# Print out features and corresponding importances\n",
        "[print('Variable: {:20} Importance: {}'.format(*pair)) for pair in feature_importances]"
      ]
    },
    {
      "cell_type": "code",
      "execution_count": null,
      "metadata": {
        "id": "K_R9eibuQPHs"
      },
      "outputs": [],
      "source": [
        "# Define function for converting hours and minutes into minutes\n",
        "def hours_to_mins(time):\n",
        "    hour = time[0]\n",
        "    mins = time[1]\n",
        "    mins = mins + hour * 60\n",
        "    return mins"
      ]
    },
    {
      "cell_type": "code",
      "execution_count": null,
      "metadata": {
        "colab": {
          "base_uri": "https://localhost:8080/"
        },
        "id": "vRCWYYnZQPHs",
        "outputId": "664befb1-b3c5-40b2-862f-29f6697f22ce"
      },
      "outputs": [
        {
          "output_type": "execute_result",
          "data": {
            "text/plain": [
              "Index(['Minutes Asleep', 'Minutes Awake', 'Time in Bed', 'Minutes REM Sleep',\n",
              "       'Minutes Light Sleep', 'Minutes Deep Sleep'],\n",
              "      dtype='object')"
            ]
          },
          "metadata": {},
          "execution_count": 22
        }
      ],
      "source": [
        "X_train.columns"
      ]
    },
    {
      "cell_type": "code",
      "execution_count": null,
      "metadata": {
        "id": "Kkd7IKY1QPHt"
      },
      "outputs": [],
      "source": [
        "yesterday = [(7,12), (1,20), (8,32), (1,3), (4,45), (1,24)]"
      ]
    },
    {
      "cell_type": "code",
      "execution_count": null,
      "metadata": {
        "id": "bn_5tz00QPHt"
      },
      "outputs": [],
      "source": [
        "# Define function to transform input times\n",
        "def get_input(times):\n",
        "    transformed = []\n",
        "    for time in times:\n",
        "        transformed.append(hours_to_mins(time))\n",
        "    transformed = np.array(transformed)\n",
        "    transformed = transformed.reshape(1, -1)\n",
        "    return transformed"
      ]
    },
    {
      "cell_type": "code",
      "execution_count": null,
      "metadata": {
        "colab": {
          "base_uri": "https://localhost:8080/"
        },
        "id": "fCzlCYYIQPHt",
        "outputId": "697eb2b4-33d1-4a8d-961e-67b831eaf315"
      },
      "outputs": [
        {
          "output_type": "execute_result",
          "data": {
            "text/plain": [
              "array([[432,  80, 512,  63, 285,  84]])"
            ]
          },
          "metadata": {},
          "execution_count": 25
        }
      ],
      "source": [
        "# Convert last nights sleep score\n",
        "last_night = get_input(yesterday)\n",
        "last_night"
      ]
    }
  ],
  "metadata": {
    "kernelspec": {
      "display_name": "Python 3",
      "language": "python",
      "name": "python3"
    },
    "language_info": {
      "codemirror_mode": {
        "name": "ipython",
        "version": 3
      },
      "file_extension": ".py",
      "mimetype": "text/x-python",
      "name": "python",
      "nbconvert_exporter": "python",
      "pygments_lexer": "ipython3",
      "version": "3.8.2"
    },
    "colab": {
      "provenance": [],
      "collapsed_sections": []
    }
  },
  "nbformat": 4,
  "nbformat_minor": 0
}