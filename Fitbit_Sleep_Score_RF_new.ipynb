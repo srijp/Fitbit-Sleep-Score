{
  "cells": [
    {
      "cell_type": "markdown",
      "metadata": {
        "id": "krvpw6YgNbb7"
      },
      "source": [
        "# Deconstructing the Fitbit Sleep Score"
      ]
    },
    {
      "cell_type": "markdown",
      "metadata": {
        "id": "h273bLQzNbb9"
      },
      "source": [
        "In this project I will use different Machine Learning models in order to get a better understanding of the Fitbit Sleep Score. For those people who have a Fitbit, you've probably been wondering how exactly Fitbit comes up with your sleep score. Sometimes you sleep for shorter periods of time with similar amounts of REM and deep sleep but still get a better sleep score. Other times you have rather low amounts of REM and deep sleep but a better score than a night of higher amounts of those. What's the secret behind this?\n",
        "That's precisely what I will answer throughout this project."
      ]
    },
    {
      "cell_type": "code",
      "execution_count": 1,
      "metadata": {
        "id": "jUZ_dyytNbb-"
      },
      "outputs": [],
      "source": [
        "# Import all relevant libraries\n",
        "import pandas as pd\n",
        "import numpy as np\n",
        "import matplotlib.pyplot as plt\n",
        "from sklearn.model_selection import train_test_split\n",
        "from sklearn.preprocessing import StandardScaler\n",
        "from sklearn.ensemble import RandomForestRegressor\n",
        "from sklearn.model_selection import cross_val_score\n",
        "from sklearn.metrics import mean_absolute_error\n",
        "from pprint import pprint\n",
        "from sklearn.model_selection import RandomizedSearchCV"
      ]
    },
    {
      "cell_type": "code",
      "execution_count": 2,
      "metadata": {
        "id": "FmMsdZvBNbb_"
      },
      "outputs": [],
      "source": [
        "# Read the data\n",
        "url = 'https://raw.githubusercontent.com/srijp/Fitbit-Sleep-Score/master/Fitbit_Sleep_JB_041219_010720.csv'\n",
        "sleep_data = pd.read_csv(url)"
      ]
    },
    {
      "cell_type": "code",
      "execution_count": 3,
      "metadata": {
        "scrolled": true,
        "colab": {
          "base_uri": "https://localhost:8080/",
          "height": 206
        },
        "id": "UMmlJ49INbb_",
        "outputId": "e7515e65-c4c7-4676-a5a5-2bb95eee6dd6"
      },
      "outputs": [
        {
          "output_type": "execute_result",
          "data": {
            "text/plain": [
              "      Start Time      End Time  Minutes Asleep  Minutes Awake  \\\n",
              "0  30/6/20 21:57   1/7/20 5:59             402             79   \n",
              "1  29/6/20 21:35  30/6/20 6:02             444             63   \n",
              "2  28/6/20 22:01  29/6/20 6:01             420             60   \n",
              "3  27/6/20 22:05  28/6/20 9:27             567            115   \n",
              "4  26/6/20 21:40  27/6/20 7:35             495            100   \n",
              "\n",
              "   Number of Awakenings  Time in Bed  Minutes REM Sleep  Minutes Light Sleep  \\\n",
              "0                    40          481                 32                  282   \n",
              "1                    36          507                 51                  332   \n",
              "2                    36          480                 37                  335   \n",
              "3                    51          682                 83                  390   \n",
              "4                    35          595                 75                  335   \n",
              "\n",
              "   Minutes Deep Sleep  overall_score  \n",
              "0                  88           71.0  \n",
              "1                  61           78.0  \n",
              "2                  48           78.0  \n",
              "3                  94           75.0  \n",
              "4                  85           78.0  "
            ],
            "text/html": [
              "\n",
              "  <div id=\"df-98535e01-4f2e-44b3-876a-fa12421ea926\">\n",
              "    <div class=\"colab-df-container\">\n",
              "      <div>\n",
              "<style scoped>\n",
              "    .dataframe tbody tr th:only-of-type {\n",
              "        vertical-align: middle;\n",
              "    }\n",
              "\n",
              "    .dataframe tbody tr th {\n",
              "        vertical-align: top;\n",
              "    }\n",
              "\n",
              "    .dataframe thead th {\n",
              "        text-align: right;\n",
              "    }\n",
              "</style>\n",
              "<table border=\"1\" class=\"dataframe\">\n",
              "  <thead>\n",
              "    <tr style=\"text-align: right;\">\n",
              "      <th></th>\n",
              "      <th>Start Time</th>\n",
              "      <th>End Time</th>\n",
              "      <th>Minutes Asleep</th>\n",
              "      <th>Minutes Awake</th>\n",
              "      <th>Number of Awakenings</th>\n",
              "      <th>Time in Bed</th>\n",
              "      <th>Minutes REM Sleep</th>\n",
              "      <th>Minutes Light Sleep</th>\n",
              "      <th>Minutes Deep Sleep</th>\n",
              "      <th>overall_score</th>\n",
              "    </tr>\n",
              "  </thead>\n",
              "  <tbody>\n",
              "    <tr>\n",
              "      <th>0</th>\n",
              "      <td>30/6/20 21:57</td>\n",
              "      <td>1/7/20 5:59</td>\n",
              "      <td>402</td>\n",
              "      <td>79</td>\n",
              "      <td>40</td>\n",
              "      <td>481</td>\n",
              "      <td>32</td>\n",
              "      <td>282</td>\n",
              "      <td>88</td>\n",
              "      <td>71.0</td>\n",
              "    </tr>\n",
              "    <tr>\n",
              "      <th>1</th>\n",
              "      <td>29/6/20 21:35</td>\n",
              "      <td>30/6/20 6:02</td>\n",
              "      <td>444</td>\n",
              "      <td>63</td>\n",
              "      <td>36</td>\n",
              "      <td>507</td>\n",
              "      <td>51</td>\n",
              "      <td>332</td>\n",
              "      <td>61</td>\n",
              "      <td>78.0</td>\n",
              "    </tr>\n",
              "    <tr>\n",
              "      <th>2</th>\n",
              "      <td>28/6/20 22:01</td>\n",
              "      <td>29/6/20 6:01</td>\n",
              "      <td>420</td>\n",
              "      <td>60</td>\n",
              "      <td>36</td>\n",
              "      <td>480</td>\n",
              "      <td>37</td>\n",
              "      <td>335</td>\n",
              "      <td>48</td>\n",
              "      <td>78.0</td>\n",
              "    </tr>\n",
              "    <tr>\n",
              "      <th>3</th>\n",
              "      <td>27/6/20 22:05</td>\n",
              "      <td>28/6/20 9:27</td>\n",
              "      <td>567</td>\n",
              "      <td>115</td>\n",
              "      <td>51</td>\n",
              "      <td>682</td>\n",
              "      <td>83</td>\n",
              "      <td>390</td>\n",
              "      <td>94</td>\n",
              "      <td>75.0</td>\n",
              "    </tr>\n",
              "    <tr>\n",
              "      <th>4</th>\n",
              "      <td>26/6/20 21:40</td>\n",
              "      <td>27/6/20 7:35</td>\n",
              "      <td>495</td>\n",
              "      <td>100</td>\n",
              "      <td>35</td>\n",
              "      <td>595</td>\n",
              "      <td>75</td>\n",
              "      <td>335</td>\n",
              "      <td>85</td>\n",
              "      <td>78.0</td>\n",
              "    </tr>\n",
              "  </tbody>\n",
              "</table>\n",
              "</div>\n",
              "      <button class=\"colab-df-convert\" onclick=\"convertToInteractive('df-98535e01-4f2e-44b3-876a-fa12421ea926')\"\n",
              "              title=\"Convert this dataframe to an interactive table.\"\n",
              "              style=\"display:none;\">\n",
              "        \n",
              "  <svg xmlns=\"http://www.w3.org/2000/svg\" height=\"24px\"viewBox=\"0 0 24 24\"\n",
              "       width=\"24px\">\n",
              "    <path d=\"M0 0h24v24H0V0z\" fill=\"none\"/>\n",
              "    <path d=\"M18.56 5.44l.94 2.06.94-2.06 2.06-.94-2.06-.94-.94-2.06-.94 2.06-2.06.94zm-11 1L8.5 8.5l.94-2.06 2.06-.94-2.06-.94L8.5 2.5l-.94 2.06-2.06.94zm10 10l.94 2.06.94-2.06 2.06-.94-2.06-.94-.94-2.06-.94 2.06-2.06.94z\"/><path d=\"M17.41 7.96l-1.37-1.37c-.4-.4-.92-.59-1.43-.59-.52 0-1.04.2-1.43.59L10.3 9.45l-7.72 7.72c-.78.78-.78 2.05 0 2.83L4 21.41c.39.39.9.59 1.41.59.51 0 1.02-.2 1.41-.59l7.78-7.78 2.81-2.81c.8-.78.8-2.07 0-2.86zM5.41 20L4 18.59l7.72-7.72 1.47 1.35L5.41 20z\"/>\n",
              "  </svg>\n",
              "      </button>\n",
              "      \n",
              "  <style>\n",
              "    .colab-df-container {\n",
              "      display:flex;\n",
              "      flex-wrap:wrap;\n",
              "      gap: 12px;\n",
              "    }\n",
              "\n",
              "    .colab-df-convert {\n",
              "      background-color: #E8F0FE;\n",
              "      border: none;\n",
              "      border-radius: 50%;\n",
              "      cursor: pointer;\n",
              "      display: none;\n",
              "      fill: #1967D2;\n",
              "      height: 32px;\n",
              "      padding: 0 0 0 0;\n",
              "      width: 32px;\n",
              "    }\n",
              "\n",
              "    .colab-df-convert:hover {\n",
              "      background-color: #E2EBFA;\n",
              "      box-shadow: 0px 1px 2px rgba(60, 64, 67, 0.3), 0px 1px 3px 1px rgba(60, 64, 67, 0.15);\n",
              "      fill: #174EA6;\n",
              "    }\n",
              "\n",
              "    [theme=dark] .colab-df-convert {\n",
              "      background-color: #3B4455;\n",
              "      fill: #D2E3FC;\n",
              "    }\n",
              "\n",
              "    [theme=dark] .colab-df-convert:hover {\n",
              "      background-color: #434B5C;\n",
              "      box-shadow: 0px 1px 3px 1px rgba(0, 0, 0, 0.15);\n",
              "      filter: drop-shadow(0px 1px 2px rgba(0, 0, 0, 0.3));\n",
              "      fill: #FFFFFF;\n",
              "    }\n",
              "  </style>\n",
              "\n",
              "      <script>\n",
              "        const buttonEl =\n",
              "          document.querySelector('#df-98535e01-4f2e-44b3-876a-fa12421ea926 button.colab-df-convert');\n",
              "        buttonEl.style.display =\n",
              "          google.colab.kernel.accessAllowed ? 'block' : 'none';\n",
              "\n",
              "        async function convertToInteractive(key) {\n",
              "          const element = document.querySelector('#df-98535e01-4f2e-44b3-876a-fa12421ea926');\n",
              "          const dataTable =\n",
              "            await google.colab.kernel.invokeFunction('convertToInteractive',\n",
              "                                                     [key], {});\n",
              "          if (!dataTable) return;\n",
              "\n",
              "          const docLinkHtml = 'Like what you see? Visit the ' +\n",
              "            '<a target=\"_blank\" href=https://colab.research.google.com/notebooks/data_table.ipynb>data table notebook</a>'\n",
              "            + ' to learn more about interactive tables.';\n",
              "          element.innerHTML = '';\n",
              "          dataTable['output_type'] = 'display_data';\n",
              "          await google.colab.output.renderOutput(dataTable, element);\n",
              "          const docLink = document.createElement('div');\n",
              "          docLink.innerHTML = docLinkHtml;\n",
              "          element.appendChild(docLink);\n",
              "        }\n",
              "      </script>\n",
              "    </div>\n",
              "  </div>\n",
              "  "
            ]
          },
          "metadata": {},
          "execution_count": 3
        }
      ],
      "source": [
        "sleep_data.head()"
      ]
    },
    {
      "cell_type": "code",
      "execution_count": 4,
      "metadata": {
        "id": "KM18OLlrNbb_"
      },
      "outputs": [],
      "source": [
        "# Drop the last row as it doesn't have any sleep score data\n",
        "sleep_data.dropna(subset=['overall_score'], inplace=True)"
      ]
    },
    {
      "cell_type": "markdown",
      "metadata": {
        "id": "8AeqmUd2NbcA"
      },
      "source": [
        "For now I will focus on the columns from Minutes Asleep to Minutes Deep Sleep as the features and the overall_score as the label as that most closely resembles the data that the Fitbit App provides to its users. The Number of Awakenings column seems interesting but isn't provided in the app either so I'll drop that one for now as well."
      ]
    },
    {
      "cell_type": "code",
      "execution_count": 5,
      "metadata": {
        "id": "DxZyB_BiNbcA"
      },
      "outputs": [],
      "source": [
        "# Obtain column names for features\n",
        "feats = sleep_data.columns[2:9]\n",
        "\n",
        "X = sleep_data[feats].astype(float)\n",
        "X.drop('Number of Awakenings', axis=1, inplace=True)\n",
        "y = sleep_data['overall_score']"
      ]
    },
    {
      "cell_type": "code",
      "execution_count": 6,
      "metadata": {
        "id": "g5iwWWybNbcA"
      },
      "outputs": [],
      "source": [
        "# Split data into training and validation set\n",
        "X_train, X_valid, y_train, y_valid = train_test_split(X, y, test_size=0.2, random_state=42)\n",
        "# Remember: because now I'm looking at a Random Forest Regressor, scaling is not needed"
      ]
    },
    {
      "cell_type": "code",
      "execution_count": 7,
      "metadata": {
        "colab": {
          "base_uri": "https://localhost:8080/"
        },
        "id": "yVOLPWMGNbcA",
        "outputId": "1e1dcd0a-c7bc-42cd-868c-f1031e40f4ee"
      },
      "outputs": [
        {
          "output_type": "execute_result",
          "data": {
            "text/plain": [
              "RandomForestRegressor(random_state=42)"
            ]
          },
          "metadata": {},
          "execution_count": 7
        }
      ],
      "source": [
        "# To obtain a baseline model let's run a Random Forest Regressor with its default settings\n",
        "rf_base = RandomForestRegressor(random_state=42)\n",
        "rf_base.fit(X_train, y_train)"
      ]
    },
    {
      "cell_type": "code",
      "execution_count": 8,
      "metadata": {
        "id": "qXoUTT6MNbcB"
      },
      "outputs": [],
      "source": [
        "# Define a function for scoring the model and returning its accuracy\n",
        "def evaluate(model, test_features, test_labels):\n",
        "    predictions = model.predict(test_features)\n",
        "    errors = abs(predictions - test_labels)\n",
        "    mape = 100 * np.mean(errors / test_labels)\n",
        "    accuracy = 100 - mape\n",
        "    score = model.score(test_features, test_labels)\n",
        "    print('Model Performance')\n",
        "    print('Average Error: {:0.4f}.'.format(np.mean(errors)))\n",
        "    print('Accuracy = {:0.2f}%.'.format(accuracy))\n",
        "    print('Score = {:0.4f}.'.format(score))\n",
        "    return accuracy"
      ]
    },
    {
      "cell_type": "code",
      "execution_count": 9,
      "metadata": {
        "colab": {
          "base_uri": "https://localhost:8080/"
        },
        "id": "rm7neaMBNbcB",
        "outputId": "75f7179c-96f0-4407-edb2-d4fbc98ca236"
      },
      "outputs": [
        {
          "output_type": "stream",
          "name": "stdout",
          "text": [
            "Model Performance\n",
            "Average Error: 2.6167.\n",
            "Accuracy = 96.11%.\n",
            "Score = 0.7234.\n"
          ]
        },
        {
          "output_type": "execute_result",
          "data": {
            "text/plain": [
              "96.110849651543"
            ]
          },
          "metadata": {},
          "execution_count": 9
        }
      ],
      "source": [
        "evaluate(rf_base, X_valid, y_valid)"
      ]
    },
    {
      "cell_type": "code",
      "execution_count": 38,
      "metadata": {
        "id": "gGFBj6ztNbcB"
      },
      "outputs": [],
      "source": [
        "def get_feature_importances(df, model):\n",
        "    feature_list = list(df.columns)\n",
        "    importances = list(model.feature_importances_)\n",
        "\n",
        "    # List of tuples with variable and importance ans subsequent sorting\n",
        "    feature_importances = [(feature, round(importance, 2)) for feature, importance in zip(feature_list, importances)]\n",
        "    feature_importances = sorted(feature_importances, key = lambda x: x[1], reverse=True)\n",
        "\n",
        "    # Print out features and corresponding importances\n",
        "    #[print('Variable: {:20} Importance: {}'.format(*pair)) for pair in feature_importances]\n",
        "    return feature_importances"
      ]
    },
    {
      "cell_type": "code",
      "execution_count": 39,
      "metadata": {
        "id": "CtMcM0vkNbcB"
      },
      "outputs": [],
      "source": [
        "feature_importances=get_feature_importances(X, rf_base)"
      ]
    },
    {
      "cell_type": "code",
      "execution_count": 40,
      "metadata": {
        "id": "CPW4zwmoNbcC"
      },
      "outputs": [],
      "source": [
        "# Define function for converting hours and minutes into minutes\n",
        "def hours_to_mins(time):\n",
        "    hour = time[0]\n",
        "    mins = time[1]\n",
        "    mins = mins + hour * 60\n",
        "    return mins"
      ]
    },
    {
      "cell_type": "code",
      "execution_count": 41,
      "metadata": {
        "colab": {
          "base_uri": "https://localhost:8080/"
        },
        "id": "RYiThPTaNbcC",
        "outputId": "1761ae0f-afcc-484d-d7b8-96d147cadc34"
      },
      "outputs": [
        {
          "output_type": "execute_result",
          "data": {
            "text/plain": [
              "Index(['Minutes Asleep', 'Minutes Awake', 'Time in Bed', 'Minutes REM Sleep',\n",
              "       'Minutes Light Sleep', 'Minutes Deep Sleep'],\n",
              "      dtype='object')"
            ]
          },
          "metadata": {},
          "execution_count": 41
        }
      ],
      "source": [
        "X_train.columns"
      ]
    },
    {
      "cell_type": "code",
      "execution_count": 42,
      "metadata": {
        "id": "DjCzeO3tNbcC"
      },
      "outputs": [],
      "source": [
        "yesterday = [(7,12), (1,20), (8,32), (1,3), (4,45), (1,24)]"
      ]
    },
    {
      "cell_type": "code",
      "execution_count": 43,
      "metadata": {
        "id": "9l-BDw57NbcC"
      },
      "outputs": [],
      "source": [
        "# Define function to transform input times\n",
        "def get_input(times):\n",
        "    transformed = []\n",
        "    for time in times:\n",
        "        transformed.append(hours_to_mins(time))\n",
        "    transformed = np.array(transformed)\n",
        "    transformed = transformed.reshape(1, -1)\n",
        "    return transformed"
      ]
    },
    {
      "cell_type": "code",
      "execution_count": 44,
      "metadata": {
        "colab": {
          "base_uri": "https://localhost:8080/"
        },
        "id": "fd_MQMsWNbcC",
        "outputId": "64feec8d-d515-4f42-d48f-1678964e4e9b"
      },
      "outputs": [
        {
          "output_type": "execute_result",
          "data": {
            "text/plain": [
              "array([[432,  80, 512,  63, 285,  84]])"
            ]
          },
          "metadata": {},
          "execution_count": 44
        }
      ],
      "source": [
        "# Convert last nights sleep score\n",
        "last_night = get_input(yesterday)\n",
        "last_night"
      ]
    },
    {
      "cell_type": "code",
      "execution_count": 45,
      "metadata": {
        "colab": {
          "base_uri": "https://localhost:8080/"
        },
        "id": "FZ3fb-NYNbcC",
        "outputId": "3faca25e-b3f8-40a1-c7a6-c4b05e5bfb2e"
      },
      "outputs": [
        {
          "output_type": "stream",
          "name": "stderr",
          "text": [
            "/usr/local/lib/python3.7/dist-packages/sklearn/base.py:451: UserWarning: X does not have valid feature names, but RandomForestRegressor was fitted with feature names\n",
            "  \"X does not have valid feature names, but\"\n"
          ]
        },
        {
          "output_type": "execute_result",
          "data": {
            "text/plain": [
              "array([75.8])"
            ]
          },
          "metadata": {},
          "execution_count": 45
        }
      ],
      "source": [
        "# Make a sleep score prediction (the actual sleep score was 77)\n",
        "rf_base.predict(last_night)"
      ]
    },
    {
      "cell_type": "code",
      "execution_count": 46,
      "metadata": {
        "id": "ap4twhmnNbcC"
      },
      "outputs": [],
      "source": [
        "# Make prediction for Sasha\n",
        "sash = [(7,36), (0,42), (8,18), (1,34), (4,31), (1,31)]\n",
        "sash_last_night = get_input(sash)"
      ]
    },
    {
      "cell_type": "code",
      "execution_count": 47,
      "metadata": {
        "colab": {
          "base_uri": "https://localhost:8080/"
        },
        "id": "nRczpUbqNbcD",
        "outputId": "52b96a16-1a84-4875-eb11-ec683c5d5472"
      },
      "outputs": [
        {
          "output_type": "stream",
          "name": "stderr",
          "text": [
            "/usr/local/lib/python3.7/dist-packages/sklearn/base.py:451: UserWarning: X does not have valid feature names, but RandomForestRegressor was fitted with feature names\n",
            "  \"X does not have valid feature names, but\"\n"
          ]
        },
        {
          "output_type": "execute_result",
          "data": {
            "text/plain": [
              "array([78.83])"
            ]
          },
          "metadata": {},
          "execution_count": 47
        }
      ],
      "source": [
        "rf_base.predict(sash_last_night)"
      ]
    },
    {
      "cell_type": "code",
      "execution_count": 48,
      "metadata": {
        "colab": {
          "base_uri": "https://localhost:8080/"
        },
        "id": "QPBNGI7sNbcD",
        "outputId": "555ba3c6-9f44-4ca2-f764-700fc9b7cdaf"
      },
      "outputs": [
        {
          "output_type": "stream",
          "name": "stdout",
          "text": [
            "{'bootstrap': True,\n",
            " 'ccp_alpha': 0.0,\n",
            " 'criterion': 'squared_error',\n",
            " 'max_depth': None,\n",
            " 'max_features': 'auto',\n",
            " 'max_leaf_nodes': None,\n",
            " 'max_samples': None,\n",
            " 'min_impurity_decrease': 0.0,\n",
            " 'min_samples_leaf': 1,\n",
            " 'min_samples_split': 2,\n",
            " 'min_weight_fraction_leaf': 0.0,\n",
            " 'n_estimators': 100,\n",
            " 'n_jobs': None,\n",
            " 'oob_score': False,\n",
            " 'random_state': 42,\n",
            " 'verbose': 0,\n",
            " 'warm_start': False}\n"
          ]
        }
      ],
      "source": [
        "# Look at parameters currently in use\n",
        "pprint(rf_base.get_params())"
      ]
    },
    {
      "cell_type": "code",
      "execution_count": 49,
      "metadata": {
        "colab": {
          "base_uri": "https://localhost:8080/"
        },
        "id": "AkCeajYZNbcD",
        "outputId": "0ed03a4b-9d07-4202-af9f-6a6ebd56b1cb"
      },
      "outputs": [
        {
          "output_type": "stream",
          "name": "stdout",
          "text": [
            "{'bootstrap': [True, False],\n",
            " 'max_depth': [10, 20, 30, 40, 50, 60, 70, 80, 90, 100, 110, None],\n",
            " 'max_features': ['auto', 'sqrt'],\n",
            " 'min_samples_leaf': [1, 2, 4],\n",
            " 'min_samples_split': [2, 5, 10],\n",
            " 'n_estimators': [200, 400, 600, 800, 1000, 1200, 1400, 1600, 1800, 2000]}\n"
          ]
        }
      ],
      "source": [
        "# Number of trees in random forest\n",
        "n_estimators = [int(x) for x in np.linspace(start = 200, stop = 2000, num = 10)]\n",
        "# Number of features to consider at every split\n",
        "max_features = ['auto', 'sqrt']\n",
        "# Maximum number of levels in tree\n",
        "max_depth = [int(x) for x in np.linspace(10, 110, num = 11)]\n",
        "max_depth.append(None)\n",
        "# Minimum number of samples required to split a node\n",
        "min_samples_split = [2, 5, 10]\n",
        "# Minimum number of samples required at each leaf node\n",
        "min_samples_leaf = [1, 2, 4]\n",
        "# Method of selecting samples for training each tree\n",
        "bootstrap = [True, False]\n",
        "# Create the random grid\n",
        "random_grid = {'n_estimators': n_estimators,\n",
        "               'max_features': max_features,\n",
        "               'max_depth': max_depth,\n",
        "               'min_samples_split': min_samples_split,\n",
        "               'min_samples_leaf': min_samples_leaf,\n",
        "               'bootstrap': bootstrap}\n",
        "pprint(random_grid)"
      ]
    },
    {
      "cell_type": "code",
      "execution_count": 50,
      "metadata": {
        "colab": {
          "base_uri": "https://localhost:8080/"
        },
        "id": "HlxrrZs2NbcD",
        "outputId": "18dd3b11-0444-42af-e31c-c7e1acadeea3"
      },
      "outputs": [
        {
          "output_type": "stream",
          "name": "stdout",
          "text": [
            "Fitting 5 folds for each of 100 candidates, totalling 500 fits\n"
          ]
        },
        {
          "output_type": "execute_result",
          "data": {
            "text/plain": [
              "RandomizedSearchCV(cv=5, estimator=RandomForestRegressor(), n_iter=100,\n",
              "                   n_jobs=-1,\n",
              "                   param_distributions={'bootstrap': [True, False],\n",
              "                                        'max_depth': [10, 20, 30, 40, 50, 60,\n",
              "                                                      70, 80, 90, 100, 110,\n",
              "                                                      None],\n",
              "                                        'max_features': ['auto', 'sqrt'],\n",
              "                                        'min_samples_leaf': [1, 2, 4],\n",
              "                                        'min_samples_split': [2, 5, 10],\n",
              "                                        'n_estimators': [200, 400, 600, 800,\n",
              "                                                         1000, 1200, 1400, 1600,\n",
              "                                                         1800, 2000]},\n",
              "                   random_state=42, verbose=2)"
            ]
          },
          "metadata": {},
          "execution_count": 50
        }
      ],
      "source": [
        "# Use the random grid to search for best hyperparameters\n",
        "# First create the base model to tune\n",
        "rf = RandomForestRegressor()\n",
        "# Random search of parameters, using 3 fold cross validation, \n",
        "# search across 100 different combinations, and use all available cores\n",
        "rf_random = RandomizedSearchCV(estimator = rf, param_distributions = random_grid, n_iter = 100, cv = 5, verbose=2, random_state=42, n_jobs = -1)\n",
        "# Fit the random search model\n",
        "rf_random.fit(X_train, y_train)"
      ]
    },
    {
      "cell_type": "code",
      "execution_count": 51,
      "metadata": {
        "colab": {
          "base_uri": "https://localhost:8080/"
        },
        "id": "Iv6QeJShNbcD",
        "outputId": "b529c57a-c722-4940-ef5a-d03d19d287b2"
      },
      "outputs": [
        {
          "output_type": "execute_result",
          "data": {
            "text/plain": [
              "{'n_estimators': 400,\n",
              " 'min_samples_split': 2,\n",
              " 'min_samples_leaf': 1,\n",
              " 'max_features': 'sqrt',\n",
              " 'max_depth': None,\n",
              " 'bootstrap': False}"
            ]
          },
          "metadata": {},
          "execution_count": 51
        }
      ],
      "source": [
        "# View the best hyperparameters\n",
        "rf_random.best_params_"
      ]
    },
    {
      "cell_type": "code",
      "execution_count": 52,
      "metadata": {
        "colab": {
          "base_uri": "https://localhost:8080/"
        },
        "id": "HewOtAAHNbcD",
        "outputId": "c7e5ca1a-84f3-46c3-f336-cf68edda5b77"
      },
      "outputs": [
        {
          "output_type": "execute_result",
          "data": {
            "text/plain": [
              "RandomForestRegressor(max_depth=90, min_samples_leaf=2, n_estimators=2000,\n",
              "                      random_state=42)"
            ]
          },
          "metadata": {},
          "execution_count": 52
        }
      ],
      "source": [
        "# Create and fit a model with the optimal hyperparameters\n",
        "best_rf = RandomForestRegressor(n_estimators=2000, min_samples_split=2, min_samples_leaf=2, max_features='auto', max_depth=90, bootstrap=True, random_state=42)\n",
        "best_rf.fit(X_train, y_train)"
      ]
    },
    {
      "cell_type": "code",
      "execution_count": 53,
      "metadata": {
        "colab": {
          "base_uri": "https://localhost:8080/"
        },
        "id": "uCcPE2GXNbcD",
        "outputId": "090490e0-6b50-4802-ce50-60630cb16d89"
      },
      "outputs": [
        {
          "output_type": "stream",
          "name": "stdout",
          "text": [
            "Model Performance\n",
            "Average Error: 2.6152.\n",
            "Accuracy = 96.11%.\n",
            "Score = 0.7155.\n"
          ]
        },
        {
          "output_type": "execute_result",
          "data": {
            "text/plain": [
              "96.1052016502107"
            ]
          },
          "metadata": {},
          "execution_count": 53
        }
      ],
      "source": [
        "# View the accuracy and score of the optimal model\n",
        "evaluate(best_rf, X_valid, y_valid)"
      ]
    },
    {
      "cell_type": "code",
      "execution_count": 54,
      "metadata": {
        "colab": {
          "base_uri": "https://localhost:8080/"
        },
        "id": "PgFN4qXMNbcD",
        "outputId": "4b628290-c212-42c4-dd9c-82f5712da567"
      },
      "outputs": [
        {
          "output_type": "stream",
          "name": "stderr",
          "text": [
            "/usr/local/lib/python3.7/dist-packages/sklearn/base.py:451: UserWarning: X does not have valid feature names, but RandomForestRegressor was fitted with feature names\n",
            "  \"X does not have valid feature names, but\"\n"
          ]
        },
        {
          "output_type": "execute_result",
          "data": {
            "text/plain": [
              "array([75.75230536])"
            ]
          },
          "metadata": {},
          "execution_count": 54
        }
      ],
      "source": [
        "best_rf.predict(last_night)"
      ]
    },
    {
      "cell_type": "code",
      "execution_count": 55,
      "metadata": {
        "colab": {
          "base_uri": "https://localhost:8080/"
        },
        "id": "YhaWPHMDNbcE",
        "outputId": "f47df9a7-0763-4004-9915-a482c507db5f"
      },
      "outputs": [
        {
          "output_type": "execute_result",
          "data": {
            "text/plain": [
              "Index(['Minutes Asleep', 'Minutes Awake', 'Time in Bed', 'Minutes REM Sleep',\n",
              "       'Minutes Light Sleep', 'Minutes Deep Sleep'],\n",
              "      dtype='object')"
            ]
          },
          "metadata": {},
          "execution_count": 55
        }
      ],
      "source": [
        "# Create list of features with relatively low importance\n",
        "low_imp = [x[0] for x in feature_importances[3:]]\n",
        "low_imp\n",
        "X_train.columns"
      ]
    },
    {
      "cell_type": "code",
      "execution_count": 56,
      "metadata": {
        "id": "vdiv2GidNbcE"
      },
      "outputs": [],
      "source": [
        "# Drop the low importance features from X_train and X_valid\n",
        "X_train_reduced = X_train.drop(low_imp, axis=1)\n",
        "X_valid_reduced = X_valid.drop(low_imp, axis=1)"
      ]
    },
    {
      "cell_type": "code",
      "execution_count": 57,
      "metadata": {
        "colab": {
          "base_uri": "https://localhost:8080/"
        },
        "id": "bo4ObsEtNbcE",
        "outputId": "da69c40c-fe46-4ded-a1a0-9b91013ce8ae"
      },
      "outputs": [
        {
          "output_type": "execute_result",
          "data": {
            "text/plain": [
              "RandomForestRegressor(random_state=42)"
            ]
          },
          "metadata": {},
          "execution_count": 57
        }
      ],
      "source": [
        "# Create reduced model with default hyperparameters\n",
        "rf_reduced = RandomForestRegressor(random_state=42)\n",
        "rf_reduced.fit(X_train_reduced, y_train)"
      ]
    },
    {
      "cell_type": "code",
      "execution_count": 58,
      "metadata": {
        "colab": {
          "base_uri": "https://localhost:8080/"
        },
        "id": "1fITFTv1NbcE",
        "outputId": "dc8b20f1-57dc-40da-b081-046f7e1119bb"
      },
      "outputs": [
        {
          "output_type": "stream",
          "name": "stdout",
          "text": [
            "Model Performance\n",
            "Average Error: 2.5226.\n",
            "Accuracy = 96.26%.\n",
            "Score = 0.7373.\n"
          ]
        },
        {
          "output_type": "execute_result",
          "data": {
            "text/plain": [
              "96.25910007634091"
            ]
          },
          "metadata": {},
          "execution_count": 58
        }
      ],
      "source": [
        "# Evaluate teh reduced model\n",
        "evaluate(rf_reduced, X_valid_reduced, y_valid)"
      ]
    },
    {
      "cell_type": "code",
      "execution_count": 59,
      "metadata": {
        "colab": {
          "base_uri": "https://localhost:8080/"
        },
        "id": "06Qusl-oNbcE",
        "outputId": "997ab44c-9e02-40e2-b55f-4818c460636b"
      },
      "outputs": [
        {
          "output_type": "execute_result",
          "data": {
            "text/plain": [
              "[('Minutes Asleep', 0.65), ('Minutes REM Sleep', 0.2), ('Minutes Awake', 0.15)]"
            ]
          },
          "metadata": {},
          "execution_count": 59
        }
      ],
      "source": [
        "get_feature_importances(X_train_reduced, rf_reduced)"
      ]
    },
    {
      "cell_type": "code",
      "execution_count": 60,
      "metadata": {
        "id": "ti-X3of2NbcE"
      },
      "outputs": [],
      "source": [
        "# Reduce the last_night array to the reduced features\n",
        "last_night_reduced = last_night[0][0:4]\n",
        "last_night_reduced = np.delete(last_night_reduced, 2)\n",
        "last_night_reduced = last_night_reduced.reshape(1,-1)"
      ]
    },
    {
      "cell_type": "code",
      "execution_count": 61,
      "metadata": {
        "colab": {
          "base_uri": "https://localhost:8080/"
        },
        "id": "wP1FPlHtNbcE",
        "outputId": "110a81a0-53b0-4c9f-d0cc-4c5cb0d25cdd"
      },
      "outputs": [
        {
          "output_type": "stream",
          "name": "stderr",
          "text": [
            "/usr/local/lib/python3.7/dist-packages/sklearn/base.py:451: UserWarning: X does not have valid feature names, but RandomForestRegressor was fitted with feature names\n",
            "  \"X does not have valid feature names, but\"\n"
          ]
        },
        {
          "output_type": "execute_result",
          "data": {
            "text/plain": [
              "array([75.72])"
            ]
          },
          "metadata": {},
          "execution_count": 61
        }
      ],
      "source": [
        "# Predict last nights sleep score using the reduced model\n",
        "rf_reduced.predict(last_night_reduced)"
      ]
    }
  ],
  "metadata": {
    "kernelspec": {
      "display_name": "Python 3",
      "language": "python",
      "name": "python3"
    },
    "language_info": {
      "codemirror_mode": {
        "name": "ipython",
        "version": 3
      },
      "file_extension": ".py",
      "mimetype": "text/x-python",
      "name": "python",
      "nbconvert_exporter": "python",
      "pygments_lexer": "ipython3",
      "version": "3.8.2"
    },
    "colab": {
      "provenance": [],
      "collapsed_sections": []
    }
  },
  "nbformat": 4,
  "nbformat_minor": 0
}